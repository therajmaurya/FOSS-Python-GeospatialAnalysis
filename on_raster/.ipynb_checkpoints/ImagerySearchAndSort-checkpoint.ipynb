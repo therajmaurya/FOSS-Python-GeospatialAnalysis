{
 "cells": [
  {
   "cell_type": "markdown",
   "metadata": {},
   "source": [
    "# Intro to Landsat imagery catalog\n",
    "\n",
    "1. catalog for Google cloud [GCP](https://cloud.google.com/storage/docs/public-datasets/landsat)\n",
    "1. catalog for [AWS](https://registry.opendata.aws/landsat-8/)"
   ]
  },
  {
   "cell_type": "code",
   "execution_count": 1,
   "metadata": {},
   "outputs": [
    {
     "ename": "NameError",
     "evalue": "name 'cities' is not defined",
     "output_type": "error",
     "traceback": [
      "\u001b[0;31m---------------------------------------------------------------------------\u001b[0m",
      "\u001b[0;31mNameError\u001b[0m                                 Traceback (most recent call last)",
      "\u001b[0;32m<ipython-input-1-e82c7d94d542>\u001b[0m in \u001b[0;36m<module>\u001b[0;34m()\u001b[0m\n\u001b[1;32m      2\u001b[0m \u001b[0;32mimport\u001b[0m \u001b[0mpandas\u001b[0m \u001b[0;32mas\u001b[0m \u001b[0mpd\u001b[0m\u001b[0;34m\u001b[0m\u001b[0m\n\u001b[1;32m      3\u001b[0m \u001b[0;34m\u001b[0m\u001b[0m\n\u001b[0;32m----> 4\u001b[0;31m \u001b[0;32mfor\u001b[0m \u001b[0mcity\u001b[0m \u001b[0;32min\u001b[0m \u001b[0mcities\u001b[0m\u001b[0;34m:\u001b[0m\u001b[0;34m\u001b[0m\u001b[0m\n\u001b[0m\u001b[1;32m      5\u001b[0m     \u001b[0mpathrow3\u001b[0m\u001b[0;34m=\u001b[0m\u001b[0mpathrow2\u001b[0m\u001b[0;34m[\u001b[0m\u001b[0mpathrow2\u001b[0m\u001b[0;34m.\u001b[0m\u001b[0mcity\u001b[0m\u001b[0;34m==\u001b[0m\u001b[0mcity\u001b[0m\u001b[0;34m]\u001b[0m\u001b[0;34m\u001b[0m\u001b[0m\n\u001b[1;32m      6\u001b[0m     \u001b[0mnewpath\u001b[0m \u001b[0;34m=\u001b[0m \u001b[0;34m'/home/sunbird/landsat/'\u001b[0m\u001b[0;34m+\u001b[0m\u001b[0mcity\u001b[0m\u001b[0;34m\u001b[0m\u001b[0m\n",
      "\u001b[0;31mNameError\u001b[0m: name 'cities' is not defined"
     ]
    }
   ],
   "source": [
    "import os\n",
    "import pandas as pd\n",
    "\n",
    "for city in cities:\n",
    "    pathrow3=pathrow2[pathrow2.city==city]\n",
    "    newpath = '/home/sunbird/landsat/'+city \n",
    "    if not os.path.exists(newpath):\n",
    "        os.makedirs(newpath)\n",
    "    for index, row in pathrow3.iterrows():\n",
    "        os.popen(\"gsutil -m cp -r \"+row['BASE_URL']+\" /home/sunbird/landsat/\"+city+\"/\").readlines()"
   ]
  },
  {
   "cell_type": "markdown",
   "metadata": {},
   "source": [
    "## change the projection of shape file \n",
    "1. Reading on [projections](http://geopandas.org/projections.html)"
   ]
  },
  {
   "cell_type": "code",
   "execution_count": 2,
   "metadata": {},
   "outputs": [
    {
     "data": {
      "text/html": [
       "<img src=\"https://imgs.xkcd.com/comics/map_projections.png\"/>"
      ],
      "text/plain": [
       "<IPython.core.display.Image object>"
      ]
     },
     "execution_count": 2,
     "metadata": {},
     "output_type": "execute_result"
    }
   ],
   "source": [
    "from IPython.display import Image\n",
    "from IPython.core.display import HTML \n",
    "Image(url= \"https://imgs.xkcd.com/comics/map_projections.png\")"
   ]
  },
  {
   "cell_type": "code",
   "execution_count": 3,
   "metadata": {},
   "outputs": [],
   "source": [
    "import geopandas as gp\n",
    "\n",
    "db=gp.read_file('/home/jovyan/FOSS-Python-GeospatialAnalysis/data/vector/Mumbai_extent.geojson')\n",
    "\n",
    "db.crs={'init': 'epsg:4326'}\n",
    "\n",
    "db1= db.to_crs({'init': 'epsg:32643'})\n",
    "\n",
    "db1.to_file('/home/jovyan/FOSS-Python-GeospatialAnalysis/data/vector/Mumbai_extent_32643.shp', driver='ESRI Shapefile')"
   ]
  },
  {
   "cell_type": "code",
   "execution_count": 6,
   "metadata": {},
   "outputs": [],
   "source": [
    "import fiona\n",
    "import rasterio\n",
    "from rasterio.mask import mask\n",
    "import glob\n",
    "import os\n",
    "import ntpath\n",
    "\n",
    "\n",
    "with fiona.open(\"/home/jovyan/FOSS-Python-GeospatialAnalysis/data/vector/Mumbai_extent_32643.shp\", \"r\") as shapefile:\n",
    "    features = [feature[\"geometry\"] for feature in shapefile]\n",
    "\n",
    "\n",
    "lcfolders='/home/jovyan/FOSS-Python-GeospatialAnalysis/data/raster'\n",
    "    \n",
    "def path_leaf(path):\n",
    "    head, tail = ntpath.split(path)\n",
    "    return tail or ntpath.basename(head)\n",
    "\n",
    "tifiles=glob.glob(lcfolders+'/LC81480472016284LGN00_B*.tif')\n",
    "for tifile in tifiles:\n",
    "#     print(shpfile1)\n",
    "    shpfiles2=(os.path.splitext(tifile)[0])\n",
    "    shpfile1=path_leaf(shpfiles2)\n",
    "    with rasterio.open(tifile) as src:\n",
    "        out_image, out_transform = mask(src, features,crop=True)\n",
    "        out_meta = src.meta.copy()\n",
    "        out_meta.update({\"driver\": \"GTiff\",\"height\": out_image.shape[1],\"width\": out_image.shape[2],\"transform\": out_transform})\n",
    "        with rasterio.open('/home/jovyan/FOSS-Python-GeospatialAnalysis/data/raster/Mumbai_tiffs/'+shpfile1+\".tif\", \"w\", **out_meta) as dest:\n",
    "            dest.write(out_image)"
   ]
  },
  {
   "cell_type": "markdown",
   "metadata": {},
   "source": [
    "# Convert the imagery in geotiff into numpy arrays"
   ]
  },
  {
   "cell_type": "code",
   "execution_count": 7,
   "metadata": {},
   "outputs": [],
   "source": [
    "import rasterio"
   ]
  },
  {
   "cell_type": "markdown",
   "metadata": {},
   "source": [
    "## Multiband"
   ]
  },
  {
   "cell_type": "code",
   "execution_count": 11,
   "metadata": {},
   "outputs": [],
   "source": [
    "dataset = rasterio.open(\"../data/raster/Mumbai_2016.tif\")\n",
    "data=dataset.read(1)"
   ]
  },
  {
   "cell_type": "code",
   "execution_count": 12,
   "metadata": {},
   "outputs": [
    {
     "data": {
      "text/plain": [
       "(1506, 814)"
      ]
     },
     "execution_count": 12,
     "metadata": {},
     "output_type": "execute_result"
    }
   ],
   "source": [
    "data.shape"
   ]
  },
  {
   "cell_type": "markdown",
   "metadata": {},
   "source": [
    "## Single band"
   ]
  },
  {
   "cell_type": "code",
   "execution_count": 13,
   "metadata": {},
   "outputs": [],
   "source": [
    "dataset = rasterio.open(\"../data/raster/LC81480472016284LGN00_B6.tif\")\n",
    "data=dataset.read(1)"
   ]
  },
  {
   "cell_type": "code",
   "execution_count": 14,
   "metadata": {},
   "outputs": [
    {
     "data": {
      "text/plain": [
       "(1398, 731)"
      ]
     },
     "execution_count": 14,
     "metadata": {},
     "output_type": "execute_result"
    }
   ],
   "source": [
    "data.shape"
   ]
  },
  {
   "cell_type": "markdown",
   "metadata": {},
   "source": [
    "# Find cloud cover over satellite imagery\n",
    "1. Apply fmask algorthm\n",
    "1. Algorithm based [on](http://pythonfmask.org/en/latest/)"
   ]
  },
  {
   "cell_type": "code",
   "execution_count": 15,
   "metadata": {},
   "outputs": [],
   "source": [
    "import os\n",
    "import sys\n",
    "import argparse\n",
    "\n",
    "from fmask import landsatangles\n",
    "from fmask import config\n",
    "\n",
    "from rios import fileinfo\n",
    "from rios import applier\n",
    "import numpy\n",
    "import glob\n",
    "from pyproj import Proj, transform\n",
    "import datetime\n",
    "\n",
    "\n",
    "\n",
    "def sunAnglesForExtent(imgInfo, mtlInfo):\n",
    "    \"\"\"\n",
    "    Return array of sun azimuth and zenith for each of the corners of the image\n",
    "    extent. Note that this is the raster extent, not the corners of the swathe.\n",
    "\n",
    "    The algorithm used here has been copied from the 6S possol() subroutine. The\n",
    "    Fortran code I copied it from was .... up to the usual standard in 6S. So, the\n",
    "    notation is not always clear.\n",
    "\n",
    "    \"\"\"\n",
    "    inProj = Proj(init='epsg:32643')\n",
    "    outProj = Proj(init='epsg:4326')\n",
    "    cornerLatLong = imgInfo.getCorners()\n",
    "    (ul_long, ul_lat, ur_long, ur_lat, lr_long, lr_lat, ll_long, ll_lat) = cornerLatLong\n",
    "    ul_long1, ul_lat1=transform(inProj,outProj,ul_long, ul_lat)\n",
    "    ur_long1, ur_lat1=transform(inProj,outProj,ur_long, ur_lat)\n",
    "    lr_long1, lr_lat1=transform(inProj,outProj,lr_long, lr_lat,)\n",
    "    ll_long1, ll_lat1=transform(inProj,outProj,ll_long, ll_lat)\n",
    "    pts = numpy.array([\n",
    "        [ul_long1, ul_lat1],\n",
    "        [ur_long1, ur_lat1],\n",
    "        [ll_long1, ll_lat1],\n",
    "        [lr_long1, lr_lat1]\n",
    "    ])\n",
    "    longDeg = pts[:, 0]\n",
    "    latDeg = pts[:, 1]\n",
    "    # Date/time in UTC\n",
    "    dateStr = mtlInfo['DATE_ACQUIRED']\n",
    "    timeStr = mtlInfo['SCENE_CENTER_TIME'].replace('Z', '')\n",
    "    ymd = [int(i) for i in dateStr.split('-')]\n",
    "    dateObj = datetime.date(ymd[0], ymd[1], ymd[2])\n",
    "    julianDay = (dateObj - datetime.date(ymd[0], 1, 1)).days + 1\n",
    "    juldayYearEnd = (datetime.date(ymd[0], 12, 31) - datetime.date(ymd[0], 1, 1)).days + 1\n",
    "    # Julian day as a proportion of the year\n",
    "    jdp = julianDay / juldayYearEnd\n",
    "    # Hour in UTC\n",
    "    hms = [float(x) for x in timeStr.split(':')]\n",
    "    hourGMT = hms[0] + hms[1] / 60.0 + hms[2] / 3600.0\n",
    "    (sunAz, sunZen) = landsatangles.sunAnglesForPoints(latDeg, longDeg, hourGMT, jdp)\n",
    "    sunAngles = numpy.vstack((sunAz, sunZen)).T\n",
    "    return sunAngles\n",
    "\n",
    "\n",
    "def getCtrLatLong1(imgInfo):\n",
    "    \"\"\"\n",
    "    Return the lat/long of the centre of the image as\n",
    "        (ctrLat, ctrLong)\n",
    "\n",
    "    \"\"\"\n",
    "    cornerLatLong = imgInfo.getCorners()\n",
    "    inProj = Proj(init='epsg:32643')\n",
    "    outProj = Proj(init='epsg:4326')\n",
    "    (ul_long, ul_lat, ur_long, ur_lat, lr_long, lr_lat, ll_long, ll_lat) = cornerLatLong\n",
    "    ul_long1, ul_lat1=transform(inProj,outProj,ul_long, ul_lat)\n",
    "    ur_long1, ur_lat1=transform(inProj,outProj,ur_long, ur_lat)\n",
    "    lr_long1, lr_lat1=transform(inProj,outProj,lr_long, lr_lat)\n",
    "    ll_long1, ll_lat1=transform(inProj,outProj,ll_long, ll_lat)\n",
    "    ctrLat = numpy.array([ul_lat, ur_lat, lr_lat, ll_lat]).mean()\n",
    "    ctrLong = numpy.array([ul_long, ur_long, lr_long, ll_long]).mean()\n",
    "    return (ctrLat, ctrLong)\n",
    "\n",
    "\n",
    "\n",
    "def makeAnglesImage(templateimg, outfile, nadirLine, extentSunAngles, satAzimuth, imgInfo):\n",
    "    \"\"\"\n",
    "    Make a single output image file of the sun and satellite angles for every\n",
    "    pixel in the template image.\n",
    "\n",
    "    \"\"\"\n",
    "    imgInfo  = fileinfo.ImageInfo(templateimg)\n",
    "    infiles = applier.FilenameAssociations()\n",
    "    outfiles = applier.FilenameAssociations()\n",
    "    otherargs = applier.OtherInputs()\n",
    "    controls = applier.ApplierControls()\n",
    "    infiles.img = templateimg\n",
    "    outfiles.angles = outfile\n",
    "    (ctrLat, ctrLong) = getCtrLatLong1(imgInfo)\n",
    "    otherargs.R = landsatangles.localRadius(ctrLat)\n",
    "    otherargs.nadirLine = nadirLine\n",
    "    otherargs.xMin = imgInfo.xMin\n",
    "    otherargs.xMax = imgInfo.xMax\n",
    "    otherargs.yMin = imgInfo.yMin\n",
    "    otherargs.yMax = imgInfo.yMax\n",
    "    otherargs.extentSunAngles = extentSunAngles\n",
    "    otherargs.satAltitude = 705000      # Landsat nominal altitude in metres\n",
    "    otherargs.satAzimuth = satAzimuth\n",
    "    otherargs.radianScale = 100        # Store pixel values as (radians * radianScale)\n",
    "    controls.setStatsIgnore(500)\n",
    "    applier.apply(landsatangles.makeAngles, infiles, outfiles, otherargs, controls=controls)\n",
    "    \n",
    "\n",
    "os.chdir('/home/jovyan/FOSS-Python-GeospatialAnalysis/data/raster/')\n",
    "os.popen(\"gdal_merge.py -separate -o \"+'ref_'+'mumimg'+\".tif\"+\" LC*_B[1-7,9].tif\").readlines()\n",
    "os.popen(\"gdal_merge.py -separate -o \"+'thermal_'+'mumimg'+\".tif\"+\" LC*_B1[0,1].tif\").readlines()\n",
    "mtlInfo = config.readMTLFile('LC81480472016284LGN00_MTL.txt')\n",
    "imgInfo = fileinfo.ImageInfo('ref_mumimg.tif')\n",
    "corners = landsatangles.findImgCorners('ref_mumimg.tif', imgInfo)\n",
    "nadirLine = landsatangles.findNadirLine(corners)\n",
    "extentSunAngles = sunAnglesForExtent(imgInfo, mtlInfo)\n",
    "satAzimuth = landsatangles.satAzLeftRight(nadirLine)\n",
    "makeAnglesImage('ref_mumimg.tif', 'angles_mumimg.tif',nadirLine, extentSunAngles, satAzimuth, imgInfo)\n",
    "#os.popen(\"fmask_usgsLandsatSaturationMask.py -i \"+\"ref_\"+'mumimg'+\".tif\"+\" -m *_MTL.txt -o \"+\"saturationmask_\"+'mumimg'+\".tif\").readlines()\n",
    "#os.popen(\"fmask_usgsLandsatTOA.py -i \"+\"ref_\"+'mumimg'+\".tif\"+\" -m *_MTL.txt -z angles_\"+'mumimg'+\".tif \"+\"-o toa_\"+'mumimg'+\".tif\").readlines()\n",
    "#os.popen(\"fmask_usgsLandsatStacked.py -t \"+\"thermal_\"+'mumimg'+\".tif\"+\" -a \"+\"toa_\"+'mumimg'+\".tif\"+\" -m *_MTL.txt -z angles_\"+'mumimg'+\".tif\"+\" -s \"+\"saturationmask_\"+'mumimg'+\".tif\"+\" -o \"+\"cloud_\"+'mumimg'+\".tif\").readlines()\n",
    "\n"
   ]
  },
  {
   "cell_type": "code",
   "execution_count": 16,
   "metadata": {},
   "outputs": [
    {
     "data": {
      "text/plain": [
       "[]"
      ]
     },
     "execution_count": 16,
     "metadata": {},
     "output_type": "execute_result"
    }
   ],
   "source": [
    "os.popen(\"fmask_usgsLandsatSaturationMask.py -i ref_mumimg.tif -m *_MTL.txt -o saturationmask.tif\").readlines()\n",
    "os.popen(\"fmask_usgsLandsatTOA.py -i ref_mumimg.tif -m *_MTL.txt -z angles_mumimg.tif -o toa.tif\").readlines()\n",
    "os.popen(\"fmask_usgsLandsatStacked.py -t thermal_mumimg.tif -a toa.tif -m *_MTL.txt -z angles_mumimg.tif -s saturationmask.tif -o cloud.tif\").readlines()"
   ]
  },
  {
   "cell_type": "markdown",
   "metadata": {},
   "source": [
    "## detecting lowest cloud cover imagery"
   ]
  },
  {
   "cell_type": "code",
   "execution_count": 17,
   "metadata": {},
   "outputs": [
    {
     "name": "stdout",
     "output_type": "stream",
     "text": [
      "56.0\n"
     ]
    }
   ],
   "source": [
    "import os\n",
    "import glob\n",
    "import rasterio\n",
    "import numpy as np\n",
    "\n",
    "os.chdir('/home/jovyan/FOSS-Python-GeospatialAnalysis/data/raster/')\n",
    "dataset = rasterio.open(\"cloud.tif\")\n",
    "data=dataset.read(1)\n",
    "unique, counts = np.unique(data, return_counts=True)\n",
    "dattif=dict(zip(unique, counts))\n",
    "dattif1={x: dattif[x] for x in [2,3] if x in dattif}\n",
    "percloud=round(((float(sum([i for i in dattif1.values()])*30*30)/(1000*1000))) / ((sum([i for i in dattif.values()])*30*30)/(1000*1000)) *100)\n",
    "print(percloud)"
   ]
  },
  {
   "cell_type": "markdown",
   "metadata": {},
   "source": [
    "# Excercise\n",
    "1. Visualize cloud tif"
   ]
  },
  {
   "cell_type": "code",
   "execution_count": null,
   "metadata": {},
   "outputs": [],
   "source": []
  }
 ],
 "metadata": {
  "author": "Satellite Imagery Search and Sort",
  "kernelspec": {
   "display_name": "Python 3",
   "language": "python",
   "name": "python3"
  },
  "language_info": {
   "codemirror_mode": {
    "name": "ipython",
    "version": 3
   },
   "file_extension": ".py",
   "mimetype": "text/x-python",
   "name": "python",
   "nbconvert_exporter": "python",
   "pygments_lexer": "ipython3",
   "version": "3.6.6"
  },
  "latex_envs": {
   "LaTeX_envs_menu_present": true,
   "autocomplete": true,
   "bibliofile": "biblio.bib",
   "cite_by": "apalike",
   "current_citInitial": 1,
   "eqLabelWithNumbers": true,
   "eqNumInitial": 1,
   "hotkeys": {
    "equation": "Ctrl-E",
    "itemize": "Ctrl-I"
   },
   "labels_anchors": false,
   "latex_user_defs": false,
   "report_style_numbering": false,
   "user_envs_cfg": false
  },
  "toc": {
   "colors": {
    "hover_highlight": "#DAA520",
    "navigate_num": "#000000",
    "navigate_text": "#333333",
    "running_highlight": "#FF0000",
    "selected_highlight": "#FFD700",
    "sidebar_border": "#EEEEEE",
    "wrapper_background": "#FFFFFF"
   },
   "moveMenuLeft": true,
   "nav_menu": {
    "height": "133px",
    "width": "252px"
   },
   "navigate_menu": true,
   "number_sections": true,
   "sideBar": true,
   "threshold": 4,
   "toc_cell": true,
   "toc_section_display": "block",
   "toc_window_display": true,
   "widenNotebook": false
  }
 },
 "nbformat": 4,
 "nbformat_minor": 2
}
