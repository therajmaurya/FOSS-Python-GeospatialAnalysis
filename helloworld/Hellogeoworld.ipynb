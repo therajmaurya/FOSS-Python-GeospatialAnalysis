{
 "cells": [
  {
   "cell_type": "markdown",
   "metadata": {},
   "source": [
    "#  Introduction to literal programming- Jupyter notebook, jupyterlab\n",
    "\n",
    "1. House keeping for git \n",
    "```\n",
    "git config --global user.email \"\"\n",
    "git config --global user.name \"\"\n",
    "git config --global core.editor \"nano\"\n",
    "```"
   ]
  },
  {
   "cell_type": "markdown",
   "metadata": {},
   "source": [
    "# Introduction to tools of GIS, GUI\n",
    "\n",
    "1. QGIS\n",
    "2. Google earth"
   ]
  },
  {
   "cell_type": "markdown",
   "metadata": {},
   "source": [
    "# Neo vision on geospatial data"
   ]
  },
  {
   "cell_type": "code",
   "execution_count": null,
   "metadata": {},
   "outputs": [],
   "source": [
    "from IPython.display import YouTubeVideo\n",
    "\n",
    "from datetime import timedelta\n",
    "\n",
    "start=int(timedelta(minutes=1, seconds=31).total_seconds())\n",
    "\n",
    "end=int(timedelta(minutes=1, seconds=39).total_seconds())\n",
    "\n",
    "YouTubeVideo(\"Ox2B0LY_l0k\", start=start, end=end, autoplay=1, theme=\"light\", color=\"red\")"
   ]
  },
  {
   "cell_type": "markdown",
   "metadata": {},
   "source": [
    "# Introduction to vector data"
   ]
  },
  {
   "cell_type": "markdown",
   "metadata": {},
   "source": [
    "## Create point vector \n",
    "\n",
    "1. Shapely point objects and make it into a list\n",
    "1. Create a list of names for point objects\n",
    "1. makes these list of names and object into dataframe\n",
    "1. convert the data frame into geodataframe\n",
    "1. save the geodataframe into geojson"
   ]
  },
  {
   "cell_type": "code",
   "execution_count": 1,
   "metadata": {},
   "outputs": [],
   "source": [
    "import pandas as pd\n",
    "from shapely import geometry\n",
    "import geopandas as gp\n",
    "\n",
    "p1 = geometry.Point(78.373590,17.472863)\n",
    "p2 = geometry.Point(78.473351,17.425509)\n",
    "p3 = geometry.Point(78.474656,17.361634)\n",
    "\n",
    "\n",
    "pointList = [p1, p2, p3]\n",
    "\n",
    "p1na='Pycon India 2018'\n",
    "p2na='Hussain Sagar lake'\n",
    "p3na='CHarminar'\n",
    "\n",
    "\n",
    "pointName=[p1na, p2na, p3na]\n",
    "\n",
    "db=pd.DataFrame()\n",
    "db['geometry']=pointList\n",
    "db['place_name']=pointName\n",
    "\n",
    "data2 = gp.GeoDataFrame(db, geometry='geometry')\n",
    "data2.to_file('../data/vector/point.geojson', driver=\"GeoJSON\")"
   ]
  },
  {
   "cell_type": "markdown",
   "metadata": {},
   "source": [
    "## Create a line vector\n",
    "\n",
    "1. Use Point objects into linestrings\n",
    "1. make a geodataframe\n",
    "1. save the geodataframe into geojson"
   ]
  },
  {
   "cell_type": "code",
   "execution_count": 3,
   "metadata": {},
   "outputs": [],
   "source": [
    "from shapely.geometry import LineString\n",
    "\n",
    "l1 = LineString([p1,p2])\n",
    "l2= LineString([p2,p3])\n",
    "l3= LineString([p3,p1])\n",
    "\n",
    "\n",
    "lineList=[l1,l2,l3]\n",
    "lineName=['l1','l2','l3']\n",
    "\n",
    "db=pd.DataFrame()\n",
    "db['geometry']=lineList\n",
    "db['place_name']=lineName\n",
    "\n",
    "data2 = gp.GeoDataFrame(db, geometry='geometry')\n",
    "data2.to_file('../data/vector/line.geojson', driver=\"GeoJSON\")"
   ]
  },
  {
   "cell_type": "markdown",
   "metadata": {},
   "source": [
    "## Create a polygon vector\n",
    "\n",
    "1. Make polygon objects\n",
    "1. make a geodataframe\n",
    "1. save the geodataframe into geojson"
   ]
  },
  {
   "cell_type": "code",
   "execution_count": 4,
   "metadata": {},
   "outputs": [],
   "source": [
    "from shapely.geometry import Polygon\n",
    "\n",
    "\n",
    "pol1 = Polygon([( 78.233822,17.393613), (78.317881,17.382033), (78.253307,17.347475)])\n",
    "pol2 = Polygon([( 78.301435,17.471475), (78.328037,17.405862),(  78.271997,17.414560)])\n",
    "pol3 = Polygon([(  78.372459,17.473760),( 78.377555,17.473006),(78.376529,17.469260),( 78.370614,17.469482)])\n",
    "g = gp.GeoSeries([pol1, pol2, pol3])\n",
    "\n",
    "#polygon = Polygon([[0, 0], [1, 0], [1, 1], [0, 1]])\n",
    "\n",
    "db=pd.DataFrame()\n",
    "db['geometry']=g\n",
    "db['place_name']=['A polygon','B polygon','C polygon']\n",
    "\n",
    "data2 = gp.GeoDataFrame(db, geometry='geometry')\n",
    "data2.to_file('../data/vector/polygon.geojson', driver=\"GeoJSON\")"
   ]
  },
  {
   "cell_type": "markdown",
   "metadata": {},
   "source": [
    "# Introduction to raster data"
   ]
  },
  {
   "cell_type": "markdown",
   "metadata": {},
   "source": [
    "## create a geo raster from numpy array\n",
    "\n",
    "1. Make a numpy array \n",
    "1. save it as png file\n",
    "1. use rasterio to save tif file with geo information embedded in it"
   ]
  },
  {
   "cell_type": "code",
   "execution_count": 5,
   "metadata": {},
   "outputs": [],
   "source": [
    "# source https://gis.stackexchange.com/questions/279953/numpy-array-to-gtiff-using-rasterio-without-source-raster\n",
    "from rasterio.transform import from_origin\n",
    "import numpy as np\n",
    "import rasterio \n",
    "import numpy as np\n",
    "import matplotlib\n",
    "x = np.linspace(-4.0, 4.0, 240)\n",
    "y = np.linspace(-3.0, 3.0, 180)\n",
    "X, Y = np.meshgrid(x, y)\n",
    "Z1 = np.exp(-2 * np.log(2) * ((X - 0.5) ** 2 + (Y - 0.5) ** 2) / 1 ** 2)\n",
    "Z2 = np.exp(-3 * np.log(2) * ((X + 0.5) ** 2 + (Y + 0.5) ** 2) / 2.5 ** 2)\n",
    "Z = 10.0 * (Z2 - Z1)\n",
    "Z\n",
    "res = (x[-1] - x[0]) / 240.0"
   ]
  },
  {
   "cell_type": "code",
   "execution_count": 12,
   "metadata": {},
   "outputs": [
    {
     "data": {
      "text/plain": [
       "array([[0.02122529, 0.02293761, 0.0247696 , ..., 0.00180847, 0.00163782,\n",
       "        0.00148217],\n",
       "       [0.02243408, 0.02424392, 0.02618023, ..., 0.00191146, 0.00173109,\n",
       "        0.00156658],\n",
       "       [0.02369399, 0.02560546, 0.02765053, ..., 0.00201881, 0.00182831,\n",
       "        0.00165456],\n",
       "       ...,\n",
       "       [0.00336547, 0.00363697, 0.00392745, ..., 0.00028675, 0.00025969,\n",
       "        0.00023501],\n",
       "       [0.00311622, 0.00336762, 0.00363659, ..., 0.00026551, 0.00024046,\n",
       "        0.00021761],\n",
       "       [0.00288328, 0.00311589, 0.00336475, ..., 0.00024567, 0.00022248,\n",
       "        0.00020134]])"
      ]
     },
     "execution_count": 12,
     "metadata": {},
     "output_type": "execute_result"
    }
   ],
   "source": [
    "Z"
   ]
  },
  {
   "cell_type": "code",
   "execution_count": 6,
   "metadata": {},
   "outputs": [
    {
     "data": {
      "image/png": "[encoded data removed]",
      "text/plain": [
       "<Figure size 432x288 with 1 Axes>"
      ]
     },
     "metadata": {},
     "output_type": "display_data"
    }
   ],
   "source": [
    "#%matplotlib\n",
    "from matplotlib.pyplot import imshow \n",
    "#imshow(Z)\n",
    "\n",
    "%matplotlib inline\n",
    "#pil_im = Image.open('data/empire.jpg', 'r')\n",
    "imshow(np.asarray(Z))\n",
    "matplotlib.image.imsave('../data/raster/image.png', np.asarray(Z))"
   ]
  },
  {
   "cell_type": "code",
   "execution_count": 7,
   "metadata": {},
   "outputs": [],
   "source": [
    "transform = from_origin(62.66, 15.11, res, res)"
   ]
  },
  {
   "cell_type": "code",
   "execution_count": 8,
   "metadata": {},
   "outputs": [],
   "source": [
    "with rasterio.open('../data/raster/createdGeoRaster.tif', 'w', driver='GTiff', height=Z.shape[0],\n",
    "                   width=Z.shape[1], count=1, dtype=Z.dtype,\n",
    "                   crs='+proj=latlong', transform=transform) as dst:\n",
    "    dst.write(Z, 1)"
   ]
  },
  {
   "cell_type": "markdown",
   "metadata": {},
   "source": [
    "## View the created vectors and rasters\n",
    "\n",
    "1. Use folium to make a map layer\n",
    "1. Open the json file, add it to the map layer\n",
    "1. add layercontrol, and add to map\n",
    "1. view the map"
   ]
  },
  {
   "cell_type": "code",
   "execution_count": 9,
   "metadata": {},
   "outputs": [
    {
     "data": {
      "text/html": [
       "<div style=\"width:100%;\"><div style=\"position:relative;width:100%;height:0;padding-bottom:60%;\"><iframe src=\"data:text/html;charset=utf-8;base64,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\" style=\"position:absolute;width:100%;height:100%;left:0;top:0;border:none !important;\" allowfullscreen webkitallowfullscreen mozallowfullscreen></iframe></div></div>"
      ],
      "text/plain": [
       "<folium.folium.Map at 0x7f60653d2208>"
      ]
     },
     "execution_count": 9,
     "metadata": {},
     "output_type": "execute_result"
    }
   ],
   "source": [
    "import folium\n",
    "import geopandas as gpd\n",
    "import json\n",
    "\n",
    "map = folium.Map(location=[17.472863,78.373590],zoom_start=12)\n",
    "file = '../data/vector/polygon.geojson'\n",
    "\n",
    "\n",
    "folium.GeoJson(json.load(open(file)),name='geojson').add_to(map)\n",
    "#folium.GeoJson(file,name='geojson').add_to(map)\n",
    "\n",
    "folium.LayerControl().add_to(map)\n",
    "map"
   ]
  },
  {
   "cell_type": "code",
   "execution_count": 13,
   "metadata": {},
   "outputs": [],
   "source": [
    "#source http://qingkaikong.blogspot.com/2016/06/using-folium-5-image-overlay-overlay.html\n",
    "import folium\n",
    "from folium import plugins\n",
    "import rasterio\n",
    "from scipy.ndimage import imread"
   ]
  },
  {
   "cell_type": "code",
   "execution_count": 14,
   "metadata": {},
   "outputs": [
    {
     "name": "stderr",
     "output_type": "stream",
     "text": [
      "/opt/conda/lib/python3.6/site-packages/ipykernel_launcher.py:10: DeprecationWarning: `imread` is deprecated!\n",
      "`imread` is deprecated in SciPy 1.0.0.\n",
      "Use ``matplotlib.pyplot.imread`` instead.\n",
      "  # Remove the CWD from sys.path while we load stuff.\n"
     ]
    },
    {
     "data": {
      "text/html": [
       "<div style=\"width:100%;\"><div style=\"position:relative;width:100%;height:0;padding-bottom:60%;\"><iframe src=\"data:text/html;charset=utf-8;base64,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\" style=\"position:absolute;width:100%;height:100%;left:0;top:0;border:none !important;\" allowfullscreen webkitallowfullscreen mozallowfullscreen></iframe></div></div>"
      ],
      "text/plain": [
       "<folium.folium.Map at 0x7f605eca2fd0>"
      ]
     },
     "execution_count": 14,
     "metadata": {},
     "output_type": "execute_result"
    }
   ],
   "source": [
    "# boundary of the image on the map\n",
    "min_lon = 78.334747\n",
    "max_lon =78.595014\n",
    "min_lat = 17.249216\n",
    "max_lat =  17.514049\n",
    "\n",
    "mapa= folium.Map(location=[17.372236, 78.459815],\n",
    "                  tiles='Stamen Terrain', zoom_start = 10)\n",
    "\n",
    "data = imread('../data/raster/image.png')\n",
    "\n",
    "img = folium.raster_layers.ImageOverlay(\n",
    "    name='Landsat imagery',\n",
    "    image=data,\n",
    "    bounds=[[min_lat, min_lon], [max_lat, max_lon]],\n",
    "    opacity=0.8,\n",
    "    interactive=True,\n",
    "    cross_origin=False,\n",
    "    zindex=1,\n",
    ")\n",
    "\n",
    "img.add_to(mapa)\n",
    "\n",
    "folium.LayerControl().add_to(mapa)\n",
    "\n",
    "mapa"
   ]
  },
  {
   "cell_type": "markdown",
   "metadata": {},
   "source": [
    "# binary and text file formats of geospatial data\n",
    "\n",
    "1. comparision on shape file and geojson\n",
    "2. comparision on geotiff and [asc](https://www.qgistutorials.com/en/docs/raster_styling_and_analysis.html)\n",
    "1. [Grib files](https://github.com/cambecc/earth), [source code](https://confluence.ecmwf.int/display/CKB/How+to+plot+GRIB+files+with+Python+and+matplotlib)\n",
    "1. [NETCDF](https://moderndata.plot.ly/weather-maps-in-python-with-mapbox-gl-xarray-and-netcdf4/) files"
   ]
  },
  {
   "cell_type": "code",
   "execution_count": null,
   "metadata": {},
   "outputs": [],
   "source": []
  }
 ],
 "metadata": {
  "author": "Hellogeoworld",
  "kernelspec": {
   "display_name": "Python 3",
   "language": "python",
   "name": "python3"
  },
  "language_info": {
   "codemirror_mode": {
    "name": "ipython",
    "version": 3
   },
   "file_extension": ".py",
   "mimetype": "text/x-python",
   "name": "python",
   "nbconvert_exporter": "python",
   "pygments_lexer": "ipython3",
   "version": "3.6.6"
  },
  "latex_envs": {
   "LaTeX_envs_menu_present": true,
   "autocomplete": true,
   "bibliofile": "biblio.bib",
   "cite_by": "apalike",
   "current_citInitial": 1,
   "eqLabelWithNumbers": true,
   "eqNumInitial": 1,
   "hotkeys": {
    "equation": "Ctrl-E",
    "itemize": "Ctrl-I"
   },
   "labels_anchors": false,
   "latex_user_defs": false,
   "report_style_numbering": false,
   "user_envs_cfg": false
  },
  "toc": {
   "colors": {
    "hover_highlight": "#DAA520",
    "navigate_num": "#000000",
    "navigate_text": "#333333",
    "running_highlight": "#FF0000",
    "selected_highlight": "#FFD700",
    "sidebar_border": "#EEEEEE",
    "wrapper_background": "#FFFFFF"
   },
   "moveMenuLeft": true,
   "nav_menu": {
    "height": "216px",
    "width": "252px"
   },
   "navigate_menu": true,
   "number_sections": false,
   "sideBar": true,
   "threshold": 4,
   "toc_cell": true,
   "toc_section_display": "block",
   "toc_window_display": true,
   "widenNotebook": false
  }
 },
 "nbformat": 4,
 "nbformat_minor": 2
}
